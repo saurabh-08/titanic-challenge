{
 "cells": [
  {
   "attachments": {},
   "cell_type": "markdown",
   "metadata": {
    "id": "Elb6SnnQDfdB"
   },
   "source": [
    "Titanic challenge (https://www.kaggle.com/c/titanic![image.png](attachment:image.png)"
   ]
  },
  {
   "cell_type": "code",
   "execution_count": null,
   "metadata": {
    "colab": {
     "base_uri": "https://localhost:8080/",
     "height": 1000
    },
    "id": "xC8TNtOMakSb",
    "outputId": "fc27db2b-e3f3-46ec-8ff4-a488859dab47"
   },
   "outputs": [
    {
     "name": "stdout",
     "output_type": "stream",
     "text": [
      "     PassengerId  Survived  Pclass  \\\n",
      "0              1         0       3   \n",
      "1              2         1       1   \n",
      "2              3         1       3   \n",
      "3              4         1       1   \n",
      "4              5         0       3   \n",
      "..           ...       ...     ...   \n",
      "886          887         0       2   \n",
      "887          888         1       1   \n",
      "888          889         0       3   \n",
      "889          890         1       1   \n",
      "890          891         0       3   \n",
      "\n",
      "                                                  Name     Sex   Age  SibSp  \\\n",
      "0                              Braund, Mr. Owen Harris    male  22.0      1   \n",
      "1    Cumings, Mrs. John Bradley (Florence Briggs Th...  female  38.0      1   \n",
      "2                               Heikkinen, Miss. Laina  female  26.0      0   \n",
      "3         Futrelle, Mrs. Jacques Heath (Lily May Peel)  female  35.0      1   \n",
      "4                             Allen, Mr. William Henry    male  35.0      0   \n",
      "..                                                 ...     ...   ...    ...   \n",
      "886                              Montvila, Rev. Juozas    male  27.0      0   \n",
      "887                       Graham, Miss. Margaret Edith  female  19.0      0   \n",
      "888           Johnston, Miss. Catherine Helen \"Carrie\"  female   NaN      1   \n",
      "889                              Behr, Mr. Karl Howell    male  26.0      0   \n",
      "890                                Dooley, Mr. Patrick    male  32.0      0   \n",
      "\n",
      "     Parch            Ticket     Fare Cabin Embarked  \n",
      "0        0         A/5 21171   7.2500   NaN        S  \n",
      "1        0          PC 17599  71.2833   C85        C  \n",
      "2        0  STON/O2. 3101282   7.9250   NaN        S  \n",
      "3        0            113803  53.1000  C123        S  \n",
      "4        0            373450   8.0500   NaN        S  \n",
      "..     ...               ...      ...   ...      ...  \n",
      "886      0            211536  13.0000   NaN        S  \n",
      "887      0            112053  30.0000   B42        S  \n",
      "888      2        W./C. 6607  23.4500   NaN        S  \n",
      "889      0            111369  30.0000  C148        C  \n",
      "890      0            370376   7.7500   NaN        Q  \n",
      "\n",
      "[891 rows x 12 columns]\n",
      "After mod\n",
      "     PassengerId  Survived  Pclass  Sex   Age  SibSp  Parch  Embarked\n",
      "1              2         1       1    0  38.0      1      0         0\n",
      "3              4         1       1    0  35.0      1      0         2\n",
      "6              7         0       1    1  54.0      0      0         2\n",
      "10            11         1       3    0   4.0      1      1         2\n",
      "11            12         1       1    0  58.0      0      0         2\n",
      "..           ...       ...     ...  ...   ...    ...    ...       ...\n",
      "871          872         1       1    0  47.0      1      1         2\n",
      "872          873         0       1    1  33.0      0      0         2\n",
      "879          880         1       1    0  56.0      0      1         0\n",
      "887          888         1       1    0  19.0      0      0         2\n",
      "889          890         1       1    1  26.0      0      0         0\n",
      "\n",
      "[183 rows x 8 columns]\n"
     ]
    },
    {
     "data": {
      "application/vnd.google.colaboratory.intrinsic+json": {
       "type": "string"
      },
      "text/plain": [
       "'\\n# code from Kaggal challenge\\nwomen = train_data.loc[train_data.Sex == \\'female\\'][\"Survived\"]\\nrate_women = sum(women)/len(women)\\n\\nprint(\"% of women who survived:\", rate_women)\\n\\nmen = train_data.loc[train_data.Sex == \\'male\\'][\"Survived\"]\\nrate_men = sum(men)/len(men)\\n\\nprint(\"% of men who survived:\", rate_men)\\n\\nfrom sklearn.ensemble import RandomForestClassifier\\n\\ny = train_data[\"Survived\"]\\n\\nfeatures = [\"Pclass\", \"Sex\", \"SibSp\", \"Parch\"]\\nX = pd.get_dummies(train_data[features])\\nX_test = pd.get_dummies(test_data[features])\\n\\nmodel = RandomForestClassifier(n_estimators=100, max_depth=5, random_state=1)\\nmodel.fit(X, y)\\npredictions = model.predict(X_test)\\n\\noutput = pd.DataFrame({\\'PassengerId\\': test_data.PassengerId, \\'Survived\\': predictions})\\noutput.to_csv(\\'submission.csv\\', index=False)\\nprint(\"Your submission was successfully saved!\")\\n'"
      ]
     },
     "execution_count": 231,
     "metadata": {},
     "output_type": "execute_result"
    }
   ],
   "source": [
    "# importing required libraries\n",
    "import numpy as np\n",
    "import pandas as pd\n",
    "from sklearn import tree\n",
    "import warnings\n",
    "import matplotlib.pyplot as plt\n",
    "from sklearn.model_selection import KFold\n",
    "from sklearn.model_selection import cross_val_score\n",
    "from sklearn.ensemble import RandomForestClassifier\n",
    "from sklearn.ensemble import AdaBoostClassifier\n",
    "from sklearn.ensemble import BaggingClassifier\n",
    "\n",
    "# reading and displaying train data\n",
    "train_data = pd.read_csv(\"/content/train.csv\")\n",
    "train_data.head()\n",
    "\n",
    "\n",
    "# reading and displaying test data\n",
    "test_data = pd.read_csv(\"/content/test.csv\")\n",
    "test_data.head()\n",
    "\n",
    "#printing data\n",
    "print(train_data)\n",
    "\n",
    "\n",
    "# removing null values and duplicates\n",
    "train_data = train_data.dropna()\n",
    "train_data = train_data.drop_duplicates()\n",
    "\n",
    "\n",
    "#transforming data\n",
    "train_data[\"Embarked\"] = train_data[\"Embarked\"].map({'C': 0, 'Q': 1, 'S': 2}).astype(int)\n",
    "train_data[\"Sex\"] = train_data[\"Sex\"].map({'male': 1, 'female': 0}).astype(int)\n",
    "\n",
    "# elminiating redundant columns and columns which have been transformed\n",
    "to_be_dropped_col = ['Name', 'Cabin', 'Ticket', 'Fare']\n",
    "train_data = train_data.drop(to_be_dropped_col, axis=1)\n",
    "\n",
    "#interpolation\n",
    "train_data[\"Age\"] = train_data['Age'].interpolate()\n",
    "\n",
    "\n",
    "# printing transformed data\n",
    "print(\"After mod\")\n",
    "print(train_data)\n",
    "\n",
    "'''\n",
    "# code from Kaggal challenge\n",
    "women = train_data.loc[train_data.Sex == 'female'][\"Survived\"]\n",
    "rate_women = sum(women)/len(women)\n",
    "\n",
    "print(\"% of women who survived:\", rate_women)\n",
    "\n",
    "men = train_data.loc[train_data.Sex == 'male'][\"Survived\"]\n",
    "rate_men = sum(men)/len(men)\n",
    "\n",
    "print(\"% of men who survived:\", rate_men)\n",
    "\n",
    "from sklearn.ensemble import RandomForestClassifier\n",
    "\n",
    "y = train_data[\"Survived\"]\n",
    "\n",
    "features = [\"Pclass\", \"Sex\", \"SibSp\", \"Parch\"]\n",
    "X = pd.get_dummies(train_data[features])\n",
    "X_test = pd.get_dummies(test_data[features])\n",
    "\n",
    "model = RandomForestClassifier(n_estimators=100, max_depth=5, random_state=1)\n",
    "model.fit(X, y)\n",
    "predictions = model.predict(X_test)\n",
    "\n",
    "output = pd.DataFrame({'PassengerId': test_data.PassengerId, 'Survived': predictions})\n",
    "output.to_csv('submission.csv', index=False)\n",
    "print(\"Your submission was successfully saved!\")\n",
    "'''"
   ]
  },
  {
   "cell_type": "markdown",
   "metadata": {
    "id": "-na_HGCj_JjP"
   },
   "source": [
    "Plot of decision tree classifier"
   ]
  },
  {
   "cell_type": "code",
   "execution_count": null,
   "metadata": {
    "colab": {
     "base_uri": "https://localhost:8080/",
     "height": 423
    },
    "id": "SZuh7CkF_GSy",
    "outputId": "5f582ffa-2401-4abd-d93a-16a5f3da653c"
   },
   "outputs": [
    {
     "data": {
      "text/plain": [
       "0.8306010928961749"
      ]
     },
     "execution_count": 232,
     "metadata": {},
     "output_type": "execute_result"
    },
    {
     "data": {
      "image/png": "[encoded data removed]",
      "text/plain": [
       "<Figure size 640x480 with 1 Axes>"
      ]
     },
     "metadata": {},
     "output_type": "display_data"
    }
   ],
   "source": [
    "#feature matrix\n",
    "X = train_data.drop(['Survived'], axis=1).values\n",
    "Y = train_data['Survived'].values\n",
    "\n",
    "# creating instance\n",
    "dec_tree_clf = tree.DecisionTreeClassifier(max_depth = 4)\n",
    "dec_tree_clf = dec_tree_clf.fit(X,Y)\n",
    "\n",
    "#decision tree visual\n",
    "tree.plot_tree(dec_tree_clf, class_names = ['survived', 'died'])\n",
    "\n",
    "#computig the accuracy for observation\n",
    "dec_tree_clf.score(X,Y)"
   ]
  },
  {
   "cell_type": "code",
   "execution_count": null,
   "metadata": {
    "colab": {
     "base_uri": "https://localhost:8080/"
    },
    "id": "QEeBODNySsoe",
    "outputId": "f396d4d0-b2ca-4634-a038-307bac86cfdc"
   },
   "outputs": [
    {
     "name": "stdout",
     "output_type": "stream",
     "text": [
      "     PassengerId  Survived\n",
      "12           904         1\n",
      "14           906         1\n",
      "24           916         1\n",
      "26           918         1\n",
      "28           920         0\n",
      "..           ...       ...\n",
      "404         1296         0\n",
      "405         1297         0\n",
      "407         1299         0\n",
      "411         1303         1\n",
      "414         1306         1\n",
      "\n",
      "[87 rows x 2 columns]\n"
     ]
    }
   ],
   "source": [
    "# removing null values and duplicates\n",
    "test_data = test_data.dropna()\n",
    "test_data = test_data.drop_duplicates()\n",
    "\n",
    "##transforming and interpolation\n",
    "test_data[\"Sex\"] = test_data[\"Sex\"].map({'male': 1, 'female': 0}).astype(int)\n",
    "test_data[\"Embarked\"] = test_data[\"Embarked\"].map({'C': 0, 'Q': 1, 'S': 2}).astype(int)\n",
    "test_data[\"Age\"] = test_data['Age'].interpolate()\n",
    "\n",
    "#storing test values\n",
    "test_data_passengerId_copy = test_data[\"PassengerId\"]\n",
    "\n",
    "# elminiating columns\n",
    "test_data = test_data.drop(to_be_dropped_col, axis=1)\n",
    "\n",
    "clf_val = dec_tree_clf.predict(test_data)\n",
    "clf_data = pd.DataFrame({\"PassengerId\":test_data_passengerId_copy,\"Survived\":clf_val})\n",
    "\n",
    "#printing result\n",
    "print(clf_data)"
   ]
  },
  {
   "cell_type": "markdown",
   "metadata": {
    "id": "uoC9OnaWfX0p"
   },
   "source": [
    "Applying the five-fold cross validation of my fine-tuned decision tree learning model to the Titanic training data to extract average classification accuracy"
   ]
  },
  {
   "cell_type": "code",
   "execution_count": null,
   "metadata": {
    "colab": {
     "base_uri": "https://localhost:8080/"
    },
    "id": "jlG2urQSfvBt",
    "outputId": "815406ab-dd38-4245-871b-db5f2eacdb1b"
   },
   "outputs": [
    {
     "name": "stdout",
     "output_type": "stream",
     "text": [
      "0.6558558558558559\n"
     ]
    }
   ],
   "source": [
    "# creating instance\n",
    "cross_validation = KFold(n_splits=5)\n",
    "cross_validation_scores = cross_val_score(dec_tree_clf, X, Y, cv=cross_validation)\n",
    "\n",
    "# printing mean accuracy\n",
    "print(cross_validation_scores.mean())"
   ]
  },
  {
   "cell_type": "markdown",
   "metadata": {
    "id": "SOy99w76hM0Z"
   },
   "source": [
    "Applying the five-fold cross validation of my fine-tuned random forest learning  model to the Titanic training data to extract average classification accuracy"
   ]
  },
  {
   "cell_type": "code",
   "execution_count": null,
   "metadata": {
    "colab": {
     "base_uri": "https://localhost:8080/"
    },
    "id": "IFgf0ZjahXLq",
    "outputId": "06ffbd14-49d3-4b55-cfc6-89297efea4c6"
   },
   "outputs": [
    {
     "name": "stdout",
     "output_type": "stream",
     "text": [
      "0.6558558558558559\n"
     ]
    }
   ],
   "source": [
    "# creating instance\n",
    "model_rfl = RandomForestClassifier()\n",
    "model_rfl = model_rfl.fit(X,Y)\n",
    "\n",
    "#making predecitions\n",
    "y_pred_forest = model_rfl.predict(test_data)\n",
    "y_pred_forest\n",
    "cross_validation_score = cross_val_score(model_rfl, X, Y, cv=cross_validation)\n",
    "\n",
    "# printing result\n",
    "print(cross_validation_scores.mean())"
   ]
  },
  {
   "cell_type": "markdown",
   "metadata": {
    "id": "UBQoTzOu1CmF"
   },
   "source": [
    "Bagging classifier using Scikit Learn for the above Titanic challenge."
   ]
  },
  {
   "cell_type": "code",
   "execution_count": null,
   "metadata": {
    "colab": {
     "base_uri": "https://localhost:8080/"
    },
    "id": "mfjkEJq1a5dP",
    "outputId": "107f33de-4dd0-417d-b74f-97f01809252b"
   },
   "outputs": [
    {
     "data": {
      "text/plain": [
       "0.8907103825136612"
      ]
     },
     "execution_count": 236,
     "metadata": {},
     "output_type": "execute_result"
    }
   ],
   "source": [
    "# creating instance of DTC and bagging clf\n",
    "classification = tree.DecisionTreeClassifier(max_depth=4)\n",
    "bag_clf = BaggingClassifier(estimator=classification, n_estimators=200)\n",
    "\n",
    "# fitting the bagging clf\n",
    "bag_clf.fit(X, Y)\n",
    "\n",
    "#making predecitions\n",
    "y_prediction = bag_clf.predict(test_data)\n",
    "\n",
    "# printing mean accuracy\n",
    "bag_clf.score(X, Y)"
   ]
  },
  {
   "cell_type": "markdown",
   "metadata": {
    "id": "KJPl0o_41Een"
   },
   "source": [
    "Adaboost classifier using Scikit Learn for the above Titanic challenge."
   ]
  },
  {
   "cell_type": "code",
   "execution_count": null,
   "metadata": {
    "colab": {
     "base_uri": "https://localhost:8080/"
    },
    "id": "1GQxsQ-pbA8X",
    "outputId": "1f8373f4-07c4-4177-bca8-605591142c3a"
   },
   "outputs": [
    {
     "data": {
      "text/plain": [
       "0.9781420765027322"
      ]
     },
     "execution_count": 237,
     "metadata": {},
     "output_type": "execute_result"
    }
   ],
   "source": [
    "#creating instance of AdaBoost\n",
    "adaBoost = AdaBoostClassifier(learning_rate=1.0, n_estimators=200)\n",
    "\n",
    "# fitiing\n",
    "adaBoost.fit(X,Y)\n",
    "\n",
    "#making predictions\n",
    "y_prediction = adaBoost.predict(test_data)\n",
    "\n",
    "# printing mean accuracy\n",
    "adaBoost.score(X,Y)"
   ]
  }
 ],
 "metadata": {
  "colab": {
   "provenance": []
  },
  "kernelspec": {
   "display_name": "Python 3 (ipykernel)",
   "language": "python",
   "name": "python3"
  },
  "language_info": {
   "codemirror_mode": {
    "name": "ipython",
    "version": 3
   },
   "file_extension": ".py",
   "mimetype": "text/x-python",
   "name": "python",
   "nbconvert_exporter": "python",
   "pygments_lexer": "ipython3",
   "version": "3.11.5"
  }
 },
 "nbformat": 4,
 "nbformat_minor": 1
}
